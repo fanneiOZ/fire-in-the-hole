{
 "cells": [
  {
   "cell_type": "markdown",
   "id": "8e7bfe6d",
   "metadata": {},
   "source": [
    "### Set up JADX\n",
    "\n",
    "Install jadx if not exist"
   ]
  },
  {
   "cell_type": "code",
   "execution_count": 1,
   "id": "7647fcc2",
   "metadata": {},
   "outputs": [
    {
     "name": "stdout",
     "output_type": "stream",
     "text": [
      "jadx path: /opt/homebrew/bin/jadx\n",
      "version: 1.3.3\n"
     ]
    }
   ],
   "source": [
    "%%sh\n",
    "\n",
    "if [[ \"$(which jadx)\" == \"\" ]]; then\n",
    "    if [[ \"$OSTYPE\" == \"darwin\"* ]]; then\n",
    "        brew install -y jadx\n",
    "    else\n",
    "        sudo pacman -S jadx\n",
    "    fi\n",
    "else\n",
    "    echo \"jadx path: $(which jadx)\"\n",
    "    echo \"version: $(jadx --version)\"\n",
    "fi"
   ]
  },
  {
   "cell_type": "markdown",
   "id": "ea6f8a6f",
   "metadata": {},
   "source": [
    "### Decompile the APK in source directory with JADX\n",
    "\n",
    "With configured `ROOT_PATH`, execute JADX on each presented APK files (with .apk extension)"
   ]
  },
  {
   "cell_type": "code",
   "execution_count": 51,
   "id": "66641e86",
   "metadata": {},
   "outputs": [
    {
     "name": "stdout",
     "output_type": "stream",
     "text": [
      ":: Start decompiling com.facebook.katana_358.0.0.5.117-311612936_minAPI29(arm64-v8a)(240,213dpi)_apkmirror.com.apk ------------\n",
      ":: End decompiling com.facebook.katana_358.0.0.5.117-311612936_minAPI29(arm64-v8a)(240,213dpi)_apkmirror.com.apk --------------\n",
      ":: Start decompiling com.microsoft.office.word_16.0.14931.20096-2002855229_minAPI26(armeabi-v7a)(nodpi)_apkmirror.com.apk ------------\n",
      ":: End decompiling com.microsoft.office.word_16.0.14931.20096-2002855229_minAPI26(armeabi-v7a)(nodpi)_apkmirror.com.apk --------------\n"
     ]
    }
   ],
   "source": [
    "%%sh\n",
    "\n",
    "ROOT_PATH='/Users/funnyfeb/research/thesis/fire-in-the-hole'\n",
    "\n",
    "PATH_TO_APK=\"$ROOT_PATH/apk\"\n",
    "PATH_TO_DECOMPILE=\"$ROOT_PATH/decompiled\"\n",
    "PATH_TO_RAWDATA=\"$ROOT_PATH/rawdata\"\n",
    "\n",
    "rm -Rf $PATH_TO_DECOMPILE\n",
    "rm -Rf $PATH_TO_RAWDATA\n",
    "\n",
    "cd $PATH_TO_APK\n",
    "\n",
    "for f in *.apk; do\n",
    "    echo \":: Start decompiling $f ------------\"\n",
    "    mkdir -p \"$PATH_TO_RAWDATA/$f\"\n",
    "    mkdir -p \"$PATH_TO_DECOMPILE/$f\"\n",
    "    jadx \\\n",
    "      -ds \"$PATH_TO_DECOMPILE/$f/source\" \\\n",
    "      -dr \"$PATH_TO_DECOMPILE/$f/resource\" \\\n",
    "      --deobf -v \\\n",
    "      $(echo $f) > \"$PATH_TO_RAWDATA/$f/jadx-decompile.log\"\n",
    "    echo \":: End decompiling $f --------------\"\n",
    "done\n"
   ]
  },
  {
   "cell_type": "markdown",
   "id": "7b690812",
   "metadata": {},
   "source": [
    "### Extract the import statement from decompiled code\n",
    "\n"
   ]
  },
  {
   "cell_type": "code",
   "execution_count": 236,
   "id": "d680c147",
   "metadata": {},
   "outputs": [],
   "source": [
    "%%sh\n",
    "\n",
    "ROOT_PATH='/Users/funnyfeb/research/thesis/fire-in-the-hole'\n",
    "\n",
    "PATH_TO_DECOMPILE=\"$ROOT_PATH/decompiled\"\n",
    "PATH_TO_RAWDATA=\"$ROOT_PATH/rawdata\"\n",
    "\n",
    "cd $PATH_TO_DECOMPILE\n",
    "\n",
    "for f in */; do\n",
    "    grep -R -e \"^import \\S*;$\" $(echo \"$f/source/*\") > $(echo \"$PATH_TO_RAWDATA/$f/import_list.data\")\n",
    "done"
   ]
  },
  {
   "cell_type": "markdown",
   "id": "29a49f20",
   "metadata": {
    "slideshow": {
     "slide_type": "-"
    }
   },
   "source": [
    "### Extract the GREP result\n",
    "---\n",
    "\n",
    "####  `import` statement\n",
    "\n",
    "With GREP result as following example:\n",
    "\n",
    "```\n",
    "com.microsoft.office.word_16.0.14931.20096-2002855229_minAPI26(armeabi-v7a)(nodpi)_apkmirror.com.apk//source/android/content/p006pm/IPackageStatsObserver.java:import android.os.Binder;\n",
    "```\n",
    "\n",
    "Filename and importing package are extracted with RegEx and pipe into new CSV file with following fields.\n",
    "\n",
    "| field            | description \n",
    "|:-------          |:-------------\n",
    "| grep_text        | Raw result from GREP command\n",
    "| apk_name         | APK file name\n",
    "| file_name        | JAVA code file name with import statement\n",
    "| import_statement | Raw statement result (Prefix with `import` keyword)\n",
    "| package          | Importing package id\n",
    "\n",
    "#### `package` path extraction\n",
    "\n",
    "With package path from import statement as following\n"
   ]
  },
  {
   "cell_type": "code",
   "execution_count": 238,
   "id": "ed47c79f",
   "metadata": {},
   "outputs": [],
   "source": [
    "import os\n",
    "import pandas as pd\n",
    "\n",
    "PATH_TO_RAWDATA = '/Users/funnyfeb/research/thesis/fire-in-the-hole/rawdata/'\n",
    "IMPORT_LIST_FILE_NAME = 'import_list.data'\n",
    "IMPORT_EXTRACTED_FILE_NAME = 'import_extracted.data'\n",
    "\n",
    "IMPORT_TEMPLATE_REGEX = r'\\/source\\/(?P<file_name>\\S*):(?P<import_statement>import \\S*)'\n",
    "PACKAGE_PATH_REGEX = r'import (\\S*);'\n",
    "PACKAGE_ATTR_REGEX = r'(?P<group>\\w*\\.\\w*)\\.(?P<artifact>\\w*)[|\\.]{0,1}'\n",
    "\n",
    "for apk_name in os.listdir(PATH_TO_RAWDATA):\n",
    "    data_file_path = os.path.join(PATH_TO_RAWDATA, apk_name, IMPORT_LIST_FILE_NAME)\n",
    "    target_file_path = os.path.join(PATH_TO_RAWDATA, apk_name, IMPORT_EXTRACTED_FILE_NAME)\n",
    "\n",
    "    import_df = pd.read_csv(data_file_path, sep='&', header=None, delimiter=None, names=['grep_text'])\n",
    "    extracted_df = import_df['grep_text'].str.extract(IMPORT_TEMPLATE_REGEX, expand=False)\n",
    "    import_df['apk_name'] = apk_name\n",
    "    import_df['file_name'] = extracted_df['file_name']\n",
    "    import_df['import_statement'] = extracted_df['import_statement']\n",
    "    import_df['package'] = extracted_df['import_statement'].str.extract(PACKAGE_PATH_REGEX)\n",
    "\n",
    "    package_df = import_df['package'].str.extract(PACKAGE_ATTR_REGEX, expand=False)\n",
    "    import_df['group'] = package_df['group']\n",
    "    import_df['artifact'] = package_df['artifact']\n",
    "\n",
    "    import_df.to_csv(target_file_path, header=True, index=False)\n"
   ]
  },
  {
   "cell_type": "code",
   "execution_count": 4,
   "id": "d8f02ca0",
   "metadata": {},
   "outputs": [],
   "source": [
    "import http.client\n",
    "import json\n",
    "from urllib.parse import urljoin, urlencode\n",
    "\n",
    "TARGET_HOST = 'https://search.maven.org'\n",
    "DOMAIN_PATH = '/solrsearch'\n",
    "\n",
    "def parse_url(uri, query_obj=None):\n",
    "    query_obj = dict() if query_obj is None else query_obj\n",
    "    query_obj = urlencode(query_obj)\n",
    "    query_obj = f\"?{query_obj}\" if query_obj != \"\" else \"\"\n",
    "\n",
    "    return urljoin(uri, query_obj)\n",
    "\n",
    "\n",
    "def send_request(method, uri, query_obj=None, headers=None):\n",
    "    query_obj = dict() if query_obj is None else query_obj\n",
    "    headers = dict() if headers is None else headers\n",
    "    url = f'{DOMAIN_PATH}{parse_url(uri, query_obj)}'\n",
    "    print(url)\n",
    "    conn = http.client.HTTPConnection(TARGET_HOST)\n",
    "    conn.request(method, url, headers=headers)\n",
    "    response = conn.getresponse()\n",
    "#     print(response.read())\n",
    "    res = {\n",
    "        'headers': response.headers,\n",
    "        'body': json.loads(response.read().decode('utf-8')),\n",
    "    }\n",
    "    conn.close()\n",
    "\n",
    "    return res"
   ]
  },
  {
   "cell_type": "code",
   "execution_count": 5,
   "id": "665c2edd",
   "metadata": {},
   "outputs": [
    {
     "data": {
      "text/plain": [
       "[{'id': 'com.airbnb.android:lottie',\n",
       "  'g': 'com.airbnb.android',\n",
       "  'a': 'lottie',\n",
       "  'latestVersion': '5.0.3',\n",
       "  'repositoryId': 'central',\n",
       "  'p': 'aar',\n",
       "  'timestamp': 1646680023000,\n",
       "  'versionCount': 80,\n",
       "  'text': ['com.airbnb.android',\n",
       "   'lottie',\n",
       "   '-sources.jar.sha256',\n",
       "   '-javadoc.jar',\n",
       "   '.aar.sha256',\n",
       "   '-javadoc.jar.sha512',\n",
       "   '.aar.sha512',\n",
       "   '.module.asc.sha256',\n",
       "   '.module.asc.sha512',\n",
       "   '.aar.asc.sha512',\n",
       "   '-javadoc.jar.sha256',\n",
       "   '.module',\n",
       "   '.pom.sha512',\n",
       "   '-sources.jar',\n",
       "   '-sources.jar.asc.sha512',\n",
       "   '.aar',\n",
       "   '.module.sha256',\n",
       "   '.aar.asc.sha256',\n",
       "   '.pom',\n",
       "   '.module.sha512',\n",
       "   '-sources.jar.asc.sha256',\n",
       "   '-javadoc.jar.asc.sha256',\n",
       "   '.pom.asc.sha256',\n",
       "   '-javadoc.jar.asc.sha512',\n",
       "   '.pom.asc.sha512',\n",
       "   '-sources.jar.sha512',\n",
       "   '.pom.sha256'],\n",
       "  'ec': ['-sources.jar.sha256',\n",
       "   '-javadoc.jar',\n",
       "   '.aar.sha256',\n",
       "   '-javadoc.jar.sha512',\n",
       "   '.aar.sha512',\n",
       "   '.module.asc.sha256',\n",
       "   '.module.asc.sha512',\n",
       "   '.aar.asc.sha512',\n",
       "   '-javadoc.jar.sha256',\n",
       "   '.module',\n",
       "   '.pom.sha512',\n",
       "   '-sources.jar',\n",
       "   '-sources.jar.asc.sha512',\n",
       "   '.aar',\n",
       "   '.module.sha256',\n",
       "   '.aar.asc.sha256',\n",
       "   '.pom',\n",
       "   '.module.sha512',\n",
       "   '-sources.jar.asc.sha256',\n",
       "   '-javadoc.jar.asc.sha256',\n",
       "   '.pom.asc.sha256',\n",
       "   '-javadoc.jar.asc.sha512',\n",
       "   '.pom.asc.sha512',\n",
       "   '-sources.jar.sha512',\n",
       "   '.pom.sha256']}]"
      ]
     },
     "execution_count": 5,
     "metadata": {},
     "output_type": "execute_result"
    }
   ],
   "source": [
    "import requests\n",
    "import json\n",
    "\n",
    "TARGET_HOST = 'https://search.maven.org'\n",
    "DOMAIN_PATH = '/solrsearch'\n",
    "\n",
    "def parse_url(uri, query_obj=None):\n",
    "    query_obj = dict() if query_obj is None else query_obj\n",
    "    query_obj = urlencode(query_obj)\n",
    "    query_obj = f\"?{query_obj}\" if query_obj != \"\" else \"\"\n",
    "\n",
    "    return urljoin(uri, query_obj)\n",
    "\n",
    "\n",
    "\n",
    "query = {\n",
    "    'q': 'com.airbnb a:lottie',\n",
    "    'rows': 20,\n",
    "    'wt': 'json'\n",
    "}\n",
    "\n",
    "host = parse_url('https://search.maven.org/solrsearch/select', query)\n",
    "x = requests.get(host)\n",
    "\n",
    "json.loads(x.text)['response']['docs']"
   ]
  },
  {
   "cell_type": "code",
   "execution_count": 6,
   "id": "48b39e61",
   "metadata": {},
   "outputs": [
    {
     "name": "stdout",
     "output_type": "stream",
     "text": [
      "/solrsearch/select?q=com.airbnb+a%3Alottie&rows=20&wt=json\n"
     ]
    },
    {
     "ename": "InvalidURL",
     "evalue": "nonnumeric port: '//search.maven.org'",
     "output_type": "error",
     "traceback": [
      "\u001b[0;31m---------------------------------------------------------------------------\u001b[0m",
      "\u001b[0;31mValueError\u001b[0m                                Traceback (most recent call last)",
      "File \u001b[0;32m~/miniforge3/envs/mlp/lib/python3.8/http/client.py:872\u001b[0m, in \u001b[0;36mHTTPConnection._get_hostport\u001b[0;34m(self, host, port)\u001b[0m\n\u001b[1;32m    871\u001b[0m \u001b[38;5;28;01mtry\u001b[39;00m:\n\u001b[0;32m--> 872\u001b[0m     port \u001b[38;5;241m=\u001b[39m \u001b[38;5;28;43mint\u001b[39;49m\u001b[43m(\u001b[49m\u001b[43mhost\u001b[49m\u001b[43m[\u001b[49m\u001b[43mi\u001b[49m\u001b[38;5;241;43m+\u001b[39;49m\u001b[38;5;241;43m1\u001b[39;49m\u001b[43m:\u001b[49m\u001b[43m]\u001b[49m\u001b[43m)\u001b[49m\n\u001b[1;32m    873\u001b[0m \u001b[38;5;28;01mexcept\u001b[39;00m \u001b[38;5;167;01mValueError\u001b[39;00m:\n",
      "\u001b[0;31mValueError\u001b[0m: invalid literal for int() with base 10: '//search.maven.org'",
      "\nDuring handling of the above exception, another exception occurred:\n",
      "\u001b[0;31mInvalidURL\u001b[0m                                Traceback (most recent call last)",
      "Input \u001b[0;32mIn [6]\u001b[0m, in \u001b[0;36m<cell line: 8>\u001b[0;34m()\u001b[0m\n\u001b[1;32m      1\u001b[0m query \u001b[38;5;241m=\u001b[39m {\n\u001b[1;32m      2\u001b[0m     \u001b[38;5;124m'\u001b[39m\u001b[38;5;124mq\u001b[39m\u001b[38;5;124m'\u001b[39m: \u001b[38;5;124m'\u001b[39m\u001b[38;5;124mcom.airbnb a:lottie\u001b[39m\u001b[38;5;124m'\u001b[39m,\n\u001b[1;32m      3\u001b[0m     \u001b[38;5;124m'\u001b[39m\u001b[38;5;124mrows\u001b[39m\u001b[38;5;124m'\u001b[39m: \u001b[38;5;241m20\u001b[39m,\n\u001b[1;32m      4\u001b[0m     \u001b[38;5;124m'\u001b[39m\u001b[38;5;124mwt\u001b[39m\u001b[38;5;124m'\u001b[39m: \u001b[38;5;124m'\u001b[39m\u001b[38;5;124mjson\u001b[39m\u001b[38;5;124m'\u001b[39m\n\u001b[1;32m      5\u001b[0m }\n\u001b[0;32m----> 8\u001b[0m \u001b[43msend_request\u001b[49m\u001b[43m(\u001b[49m\u001b[38;5;124;43m'\u001b[39;49m\u001b[38;5;124;43mget\u001b[39;49m\u001b[38;5;124;43m'\u001b[39;49m\u001b[43m,\u001b[49m\u001b[43m \u001b[49m\u001b[38;5;124;43m'\u001b[39;49m\u001b[38;5;124;43m/select\u001b[39;49m\u001b[38;5;124;43m'\u001b[39;49m\u001b[43m,\u001b[49m\u001b[43m \u001b[49m\u001b[43mquery\u001b[49m\u001b[43m)\u001b[49m\n",
      "Input \u001b[0;32mIn [4]\u001b[0m, in \u001b[0;36msend_request\u001b[0;34m(method, uri, query_obj, headers)\u001b[0m\n\u001b[1;32m     19\u001b[0m url \u001b[38;5;241m=\u001b[39m \u001b[38;5;124mf\u001b[39m\u001b[38;5;124m'\u001b[39m\u001b[38;5;132;01m{\u001b[39;00mDOMAIN_PATH\u001b[38;5;132;01m}\u001b[39;00m\u001b[38;5;132;01m{\u001b[39;00mparse_url(uri, query_obj)\u001b[38;5;132;01m}\u001b[39;00m\u001b[38;5;124m'\u001b[39m\n\u001b[1;32m     20\u001b[0m \u001b[38;5;28mprint\u001b[39m(url)\n\u001b[0;32m---> 21\u001b[0m conn \u001b[38;5;241m=\u001b[39m \u001b[43mhttp\u001b[49m\u001b[38;5;241;43m.\u001b[39;49m\u001b[43mclient\u001b[49m\u001b[38;5;241;43m.\u001b[39;49m\u001b[43mHTTPConnection\u001b[49m\u001b[43m(\u001b[49m\u001b[43mTARGET_HOST\u001b[49m\u001b[43m)\u001b[49m\n\u001b[1;32m     22\u001b[0m conn\u001b[38;5;241m.\u001b[39mrequest(method, url, headers\u001b[38;5;241m=\u001b[39mheaders)\n\u001b[1;32m     23\u001b[0m response \u001b[38;5;241m=\u001b[39m conn\u001b[38;5;241m.\u001b[39mgetresponse()\n",
      "File \u001b[0;32m~/miniforge3/envs/mlp/lib/python3.8/http/client.py:834\u001b[0m, in \u001b[0;36mHTTPConnection.__init__\u001b[0;34m(self, host, port, timeout, source_address, blocksize)\u001b[0m\n\u001b[1;32m    831\u001b[0m \u001b[38;5;28mself\u001b[39m\u001b[38;5;241m.\u001b[39m_tunnel_port \u001b[38;5;241m=\u001b[39m \u001b[38;5;28;01mNone\u001b[39;00m\n\u001b[1;32m    832\u001b[0m \u001b[38;5;28mself\u001b[39m\u001b[38;5;241m.\u001b[39m_tunnel_headers \u001b[38;5;241m=\u001b[39m {}\n\u001b[0;32m--> 834\u001b[0m (\u001b[38;5;28mself\u001b[39m\u001b[38;5;241m.\u001b[39mhost, \u001b[38;5;28mself\u001b[39m\u001b[38;5;241m.\u001b[39mport) \u001b[38;5;241m=\u001b[39m \u001b[38;5;28;43mself\u001b[39;49m\u001b[38;5;241;43m.\u001b[39;49m\u001b[43m_get_hostport\u001b[49m\u001b[43m(\u001b[49m\u001b[43mhost\u001b[49m\u001b[43m,\u001b[49m\u001b[43m \u001b[49m\u001b[43mport\u001b[49m\u001b[43m)\u001b[49m\n\u001b[1;32m    836\u001b[0m \u001b[38;5;28mself\u001b[39m\u001b[38;5;241m.\u001b[39m_validate_host(\u001b[38;5;28mself\u001b[39m\u001b[38;5;241m.\u001b[39mhost)\n\u001b[1;32m    838\u001b[0m \u001b[38;5;66;03m# This is stored as an instance variable to allow unit\u001b[39;00m\n\u001b[1;32m    839\u001b[0m \u001b[38;5;66;03m# tests to replace it with a suitable mockup\u001b[39;00m\n",
      "File \u001b[0;32m~/miniforge3/envs/mlp/lib/python3.8/http/client.py:877\u001b[0m, in \u001b[0;36mHTTPConnection._get_hostport\u001b[0;34m(self, host, port)\u001b[0m\n\u001b[1;32m    875\u001b[0m             port \u001b[38;5;241m=\u001b[39m \u001b[38;5;28mself\u001b[39m\u001b[38;5;241m.\u001b[39mdefault_port\n\u001b[1;32m    876\u001b[0m         \u001b[38;5;28;01melse\u001b[39;00m:\n\u001b[0;32m--> 877\u001b[0m             \u001b[38;5;28;01mraise\u001b[39;00m InvalidURL(\u001b[38;5;124m\"\u001b[39m\u001b[38;5;124mnonnumeric port: \u001b[39m\u001b[38;5;124m'\u001b[39m\u001b[38;5;132;01m%s\u001b[39;00m\u001b[38;5;124m'\u001b[39m\u001b[38;5;124m\"\u001b[39m \u001b[38;5;241m%\u001b[39m host[i\u001b[38;5;241m+\u001b[39m\u001b[38;5;241m1\u001b[39m:])\n\u001b[1;32m    878\u001b[0m     host \u001b[38;5;241m=\u001b[39m host[:i]\n\u001b[1;32m    879\u001b[0m \u001b[38;5;28;01melse\u001b[39;00m:\n",
      "\u001b[0;31mInvalidURL\u001b[0m: nonnumeric port: '//search.maven.org'"
     ]
    }
   ],
   "source": [
    "query = {\n",
    "    'q': 'com.airbnb a:lottie',\n",
    "    'rows': 20,\n",
    "    'wt': 'json'\n",
    "}\n",
    "\n",
    "\n",
    "send_request('get', '/select', query)"
   ]
  },
  {
   "cell_type": "code",
   "execution_count": 231,
   "id": "cd69613d",
   "metadata": {},
   "outputs": [
    {
     "name": "stdout",
     "output_type": "stream",
     "text": [
      "Collecting sqlalchemy\n",
      "  Downloading SQLAlchemy-1.4.36.tar.gz (8.1 MB)\n",
      "     ━━━━━━━━━━━━━━━━━━━━━━━━━━━━━━━━━━━━━━━━ 8.1/8.1 MB 10.6 MB/s eta 0:00:00\n",
      "  Preparing metadata (setup.py): started\n",
      "  Preparing metadata (setup.py): finished with status 'done'\n",
      "Building wheels for collected packages: sqlalchemy\n",
      "  Building wheel for sqlalchemy (setup.py): started\n",
      "  Building wheel for sqlalchemy (setup.py): finished with status 'done'\n",
      "  Created wheel for sqlalchemy: filename=SQLAlchemy-1.4.36-cp38-cp38-macosx_11_0_arm64.whl size=1538815 sha256=7c61162c741ae5d762cb099455c86e00802ccf9ba6f8655cc03df9f0e40d8d83\n",
      "  Stored in directory: /Users/funnyfeb/Library/Caches/pip/wheels/47/b7/10/080836da0d570aa79c319942a3244023109239a4fba388a5c3\n",
      "Successfully built sqlalchemy\n",
      "Installing collected packages: sqlalchemy\n",
      "Successfully installed sqlalchemy-1.4.36\n"
     ]
    }
   ],
   "source": [
    "%%sh\n",
    "\n",
    "pip install sqlalchemy"
   ]
  },
  {
   "cell_type": "code",
   "execution_count": 234,
   "id": "cf2f8528",
   "metadata": {},
   "outputs": [
    {
     "ename": "ArgumentError",
     "evalue": "Could not parse rfc1738 URL from string ''",
     "output_type": "error",
     "traceback": [
      "\u001b[0;31m---------------------------------------------------------------------------\u001b[0m",
      "\u001b[0;31mArgumentError\u001b[0m                             Traceback (most recent call last)",
      "Input \u001b[0;32mIn [234]\u001b[0m, in \u001b[0;36m<cell line: 3>\u001b[0;34m()\u001b[0m\n\u001b[1;32m      1\u001b[0m \u001b[38;5;28;01mfrom\u001b[39;00m \u001b[38;5;21;01msqlalchemy\u001b[39;00m \u001b[38;5;28;01mimport\u001b[39;00m create_engine\n\u001b[0;32m----> 3\u001b[0m engine \u001b[38;5;241m=\u001b[39m \u001b[43mcreate_engine\u001b[49m\u001b[43m(\u001b[49m\u001b[43murl\u001b[49m\u001b[38;5;241;43m=\u001b[39;49m\u001b[38;5;124;43m'\u001b[39;49m\u001b[38;5;124;43m'\u001b[39;49m\u001b[43m)\u001b[49m\n",
      "File \u001b[0;32m<string>:2\u001b[0m, in \u001b[0;36mcreate_engine\u001b[0;34m(url, **kwargs)\u001b[0m\n",
      "File \u001b[0;32m~/miniforge3/envs/mlp/lib/python3.8/site-packages/sqlalchemy/util/deprecations.py:309\u001b[0m, in \u001b[0;36mdeprecated_params.<locals>.decorate.<locals>.warned\u001b[0;34m(fn, *args, **kwargs)\u001b[0m\n\u001b[1;32m    302\u001b[0m     \u001b[38;5;28;01mif\u001b[39;00m m \u001b[38;5;129;01min\u001b[39;00m kwargs:\n\u001b[1;32m    303\u001b[0m         _warn_with_version(\n\u001b[1;32m    304\u001b[0m             messages[m],\n\u001b[1;32m    305\u001b[0m             versions[m],\n\u001b[1;32m    306\u001b[0m             version_warnings[m],\n\u001b[1;32m    307\u001b[0m             stacklevel\u001b[38;5;241m=\u001b[39m\u001b[38;5;241m3\u001b[39m,\n\u001b[1;32m    308\u001b[0m         )\n\u001b[0;32m--> 309\u001b[0m \u001b[38;5;28;01mreturn\u001b[39;00m \u001b[43mfn\u001b[49m\u001b[43m(\u001b[49m\u001b[38;5;241;43m*\u001b[39;49m\u001b[43margs\u001b[49m\u001b[43m,\u001b[49m\u001b[43m \u001b[49m\u001b[38;5;241;43m*\u001b[39;49m\u001b[38;5;241;43m*\u001b[39;49m\u001b[43mkwargs\u001b[49m\u001b[43m)\u001b[49m\n",
      "File \u001b[0;32m~/miniforge3/envs/mlp/lib/python3.8/site-packages/sqlalchemy/engine/create.py:530\u001b[0m, in \u001b[0;36mcreate_engine\u001b[0;34m(url, **kwargs)\u001b[0m\n\u001b[1;32m    527\u001b[0m kwargs\u001b[38;5;241m.\u001b[39mpop(\u001b[38;5;124m\"\u001b[39m\u001b[38;5;124mempty_in_strategy\u001b[39m\u001b[38;5;124m\"\u001b[39m, \u001b[38;5;28;01mNone\u001b[39;00m)\n\u001b[1;32m    529\u001b[0m \u001b[38;5;66;03m# create url.URL object\u001b[39;00m\n\u001b[0;32m--> 530\u001b[0m u \u001b[38;5;241m=\u001b[39m \u001b[43m_url\u001b[49m\u001b[38;5;241;43m.\u001b[39;49m\u001b[43mmake_url\u001b[49m\u001b[43m(\u001b[49m\u001b[43murl\u001b[49m\u001b[43m)\u001b[49m\n\u001b[1;32m    532\u001b[0m u, plugins, kwargs \u001b[38;5;241m=\u001b[39m u\u001b[38;5;241m.\u001b[39m_instantiate_plugins(kwargs)\n\u001b[1;32m    534\u001b[0m entrypoint \u001b[38;5;241m=\u001b[39m u\u001b[38;5;241m.\u001b[39m_get_entrypoint()\n",
      "File \u001b[0;32m~/miniforge3/envs/mlp/lib/python3.8/site-packages/sqlalchemy/engine/url.py:731\u001b[0m, in \u001b[0;36mmake_url\u001b[0;34m(name_or_url)\u001b[0m\n\u001b[1;32m    724\u001b[0m \u001b[38;5;124;03m\"\"\"Given a string or unicode instance, produce a new URL instance.\u001b[39;00m\n\u001b[1;32m    725\u001b[0m \n\u001b[1;32m    726\u001b[0m \u001b[38;5;124;03mThe given string is parsed according to the RFC 1738 spec.  If an\u001b[39;00m\n\u001b[1;32m    727\u001b[0m \u001b[38;5;124;03mexisting URL object is passed, just returns the object.\u001b[39;00m\n\u001b[1;32m    728\u001b[0m \u001b[38;5;124;03m\"\"\"\u001b[39;00m\n\u001b[1;32m    730\u001b[0m \u001b[38;5;28;01mif\u001b[39;00m \u001b[38;5;28misinstance\u001b[39m(name_or_url, util\u001b[38;5;241m.\u001b[39mstring_types):\n\u001b[0;32m--> 731\u001b[0m     \u001b[38;5;28;01mreturn\u001b[39;00m \u001b[43m_parse_rfc1738_args\u001b[49m\u001b[43m(\u001b[49m\u001b[43mname_or_url\u001b[49m\u001b[43m)\u001b[49m\n\u001b[1;32m    732\u001b[0m \u001b[38;5;28;01melse\u001b[39;00m:\n\u001b[1;32m    733\u001b[0m     \u001b[38;5;28;01mreturn\u001b[39;00m name_or_url\n",
      "File \u001b[0;32m~/miniforge3/envs/mlp/lib/python3.8/site-packages/sqlalchemy/engine/url.py:792\u001b[0m, in \u001b[0;36m_parse_rfc1738_args\u001b[0;34m(name)\u001b[0m\n\u001b[1;32m    789\u001b[0m     \u001b[38;5;28;01mreturn\u001b[39;00m URL\u001b[38;5;241m.\u001b[39mcreate(name, \u001b[38;5;241m*\u001b[39m\u001b[38;5;241m*\u001b[39mcomponents)\n\u001b[1;32m    791\u001b[0m \u001b[38;5;28;01melse\u001b[39;00m:\n\u001b[0;32m--> 792\u001b[0m     \u001b[38;5;28;01mraise\u001b[39;00m exc\u001b[38;5;241m.\u001b[39mArgumentError(\n\u001b[1;32m    793\u001b[0m         \u001b[38;5;124m\"\u001b[39m\u001b[38;5;124mCould not parse rfc1738 URL from string \u001b[39m\u001b[38;5;124m'\u001b[39m\u001b[38;5;132;01m%s\u001b[39;00m\u001b[38;5;124m'\u001b[39m\u001b[38;5;124m\"\u001b[39m \u001b[38;5;241m%\u001b[39m name\n\u001b[1;32m    794\u001b[0m     )\n",
      "\u001b[0;31mArgumentError\u001b[0m: Could not parse rfc1738 URL from string ''"
     ]
    }
   ],
   "source": [
    "# from sqlalchemy import create_engine\n",
    "\n",
    "# engine = create_engine(url='')\n",
    "\n"
   ]
  }
 ],
 "metadata": {
  "kernelspec": {
   "display_name": "Python 3 (ipykernel)",
   "language": "python",
   "name": "python3"
  },
  "language_info": {
   "codemirror_mode": {
    "name": "ipython",
    "version": 3
   },
   "file_extension": ".py",
   "mimetype": "text/x-python",
   "name": "python",
   "nbconvert_exporter": "python",
   "pygments_lexer": "ipython3",
   "version": "3.8.13"
  }
 },
 "nbformat": 4,
 "nbformat_minor": 5
}
